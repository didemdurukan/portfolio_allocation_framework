{
 "cells": [
  {
   "cell_type": "code",
   "execution_count": 1,
   "metadata": {},
   "outputs": [],
   "source": [
    "from sys import path\n",
    "from os.path import dirname as dir"
   ]
  },
  {
   "cell_type": "code",
   "execution_count": 2,
   "metadata": {},
   "outputs": [],
   "source": [
    "path.append(dir(path[0]))"
   ]
  },
  {
   "cell_type": "code",
   "execution_count": 3,
   "metadata": {},
   "outputs": [],
   "source": [
    "from statistics import median\n",
    "from AgentLayer.ConventionalAgents.LinearRegression import LinearRegressionAgent\n",
    "from AgentLayer.DataSplitter.TimeSeriesSplitter import TimeSeriesSplitter\n",
    "from FinancialDataLayer.DataCollection.DataDownloader import DataDownloader\n",
    "from FinancialDataLayer.DataProcessing.DefaultFeatureEngineer import DefaultFeatureEngineer\n",
    "import yaml\n",
    "import numpy as np\n",
    "from AgentLayer.metrics import *"
   ]
  },
  {
   "cell_type": "code",
   "execution_count": 5,
   "metadata": {},
   "outputs": [],
   "source": [
    "# IMPORT .yaml FILE\n",
    "    # Gather user parameters\n",
    "with open(\"..//user_params.yaml\", \"r\") as stream:\n",
    "    try:\n",
    "        user_params = yaml.safe_load(stream)\n",
    "    except yaml.YAMLError as exc:\n",
    "        print(exc)\n",
    "\n",
    "tickers = user_params[\"tickers\"]\n",
    "env_kwargs = user_params[\"env_params\"]\n",
    "tech_indicator_list = env_kwargs[\"tech_indicator_list\"]"
   ]
  },
  {
   "cell_type": "code",
   "execution_count": 7,
   "metadata": {},
   "outputs": [
    {
     "name": "stdout",
     "output_type": "stream",
     "text": [
      "\n",
      "Test 3: Downloading from Yahoo.........\n",
      "[*********************100%***********************]  1 of 1 completed\n",
      "[*********************100%***********************]  1 of 1 completed\n",
      "[*********************100%***********************]  1 of 1 completed\n",
      "[*********************100%***********************]  1 of 1 completed\n",
      "Shape of DataFrame:  (12924, 8)\n",
      "Raw Data:          date       open       high        low      close     volume   tic  day\n",
      "0 2008-12-31   3.070357   3.133571   3.047857   2.606277  607541200  AAPL    2\n",
      "1 2008-12-31  41.590000  43.049999  41.500000  32.005886    5443100    BA    2\n",
      "2 2008-12-31  43.700001  45.099998  43.700001  30.628834    6277400   CAT    2\n",
      "3 2008-12-31  72.900002  74.629997  72.900002  43.314426    9964300   CVX    2\n",
      "4 2009-01-02   3.067143   3.251429   3.041429   2.771174  746015200  AAPL    4\n"
     ]
    }
   ],
   "source": [
    "# FETCH DATA\n",
    "print(\"\\nTest 3: Downloading from Yahoo.........\")\n",
    "downloaded_df = DataDownloader(start_date='2009-01-01',\n",
    "                                end_date='2021-10-31',\n",
    "                                ticker_list=tickers).download_from_yahoo()\n",
    "    \n",
    "print(\"Raw Data: \", downloaded_df.head())"
   ]
  },
  {
   "cell_type": "code",
   "execution_count": 8,
   "metadata": {},
   "outputs": [
    {
     "name": "stdout",
     "output_type": "stream",
     "text": [
      "\n",
      "Test 4: Feature engineer.........\n",
      "Successfully added technical indicators\n",
      "[*********************100%***********************]  1 of 1 completed\n",
      "Shape of DataFrame:  (3231, 8)\n",
      "Successfully added vix\n",
      "Successfully added turbulence index\n",
      "Successfully added covariances\n"
     ]
    }
   ],
   "source": [
    " # PREPROCESS DATA\n",
    "print(\"\\nTest 4: Feature engineer.........\")\n",
    "data_processor = DefaultFeatureEngineer(use_default=False,\n",
    "                                        tech_indicator_list=tech_indicator_list,\n",
    "                                        use_vix=True,\n",
    "                                        use_turbulence=True,\n",
    "                                        use_covar=True)\n",
    "# included technical indicators as features\n",
    "df_processed = data_processor.extend_data(downloaded_df)"
   ]
  },
  {
   "cell_type": "code",
   "execution_count": 9,
   "metadata": {},
   "outputs": [],
   "source": [
    "# split data to train and test\n",
    "splitter = TimeSeriesSplitter()\n",
    "train = splitter.get_split_data(df_processed, '2009-01-01', '2020-06-30')\n",
    "trade = splitter.get_split_data(df_processed, '2020-07-01', '2021-09-02')"
   ]
  },
  {
   "cell_type": "code",
   "execution_count": 10,
   "metadata": {},
   "outputs": [],
   "source": [
    "# Get unique tic and trade\n",
    "unique_tic = trade.tic.unique()\n",
    "unique_trade_date = trade.date.unique()"
   ]
  },
  {
   "cell_type": "code",
   "execution_count": 11,
   "metadata": {},
   "outputs": [],
   "source": [
    "#Prepare data for machine learning models\n",
    "x_train, y_train = data_processor.prepare_ml_data(train)"
   ]
  },
  {
   "cell_type": "code",
   "execution_count": 12,
   "metadata": {},
   "outputs": [
    {
     "name": "stdout",
     "output_type": "stream",
     "text": [
      "Model trained succesfully\n"
     ]
    }
   ],
   "source": [
    "# Create Linear Regression model and train it\n",
    "lr = LinearRegressionAgent()\n",
    "trained_lr = lr.train_model(x_train, y_train)"
   ]
  },
  {
   "cell_type": "code",
   "execution_count": 13,
   "metadata": {},
   "outputs": [],
   "source": [
    "# Predict\n",
    "portfolio, portfolio_cumprod, meta_coefficient = lr.predict(trained_lr, 1000000, df_processed, unique_trade_date, tech_indicator_list)"
   ]
  },
  {
   "cell_type": "code",
   "execution_count": 14,
   "metadata": {},
   "outputs": [
    {
     "name": "stdout",
     "output_type": "stream",
     "text": [
      "portfolio: \n",
      "           date   account_value\n",
      "0   2020-07-01         1000000\n",
      "1   2020-07-02  1002717.337037\n",
      "2   2020-07-06  1042091.814716\n",
      "3   2020-07-07   992014.183768\n",
      "4   2020-07-08   998669.002421\n",
      "..         ...             ...\n",
      "291 2021-08-26  1200643.252031\n",
      "292 2021-08-27  1229758.157681\n",
      "293 2021-08-30  1207076.280064\n",
      "294 2021-08-31  1217280.340974\n",
      "295 2021-09-01  1209627.252981\n",
      "\n",
      "[296 rows x 2 columns]\n"
     ]
    }
   ],
   "source": [
    "print(\"portfolio: \\n\", portfolio)"
   ]
  },
  {
   "cell_type": "code",
   "execution_count": 15,
   "metadata": {},
   "outputs": [
    {
     "name": "stdout",
     "output_type": "stream",
     "text": [
      "portfolio_cumprod: \n",
      " 0           NaN\n",
      "1      0.002717\n",
      "2      0.042092\n",
      "3     -0.007986\n",
      "4     -0.001331\n",
      "         ...   \n",
      "291    0.200643\n",
      "292    0.229758\n",
      "293    0.207076\n",
      "294    0.217280\n",
      "295    0.209627\n",
      "Name: account_value, Length: 296, dtype: float64\n"
     ]
    }
   ],
   "source": [
    "print(\"portfolio_cumprod: \\n\", portfolio_cumprod)"
   ]
  },
  {
   "cell_type": "code",
   "execution_count": 16,
   "metadata": {},
   "outputs": [
    {
     "name": "stdout",
     "output_type": "stream",
     "text": [
      "Meta Coefficient: \n",
      "           date                                            weights\n",
      "0   2020-07-01      tic        weight  predicted_y\n",
      "0  AAPL  3....\n",
      "1   2020-07-02      tic        weight  predicted_y\n",
      "0  AAPL  5....\n",
      "2   2020-07-06      tic        weight  predicted_y\n",
      "0  AAPL  2....\n",
      "3   2020-07-07      tic        weight  predicted_y\n",
      "0  AAPL  0....\n",
      "4   2020-07-08      tic        weight  predicted_y\n",
      "0  AAPL  2....\n",
      "..         ...                                                ...\n",
      "290 2021-08-25      tic        weight  predicted_y\n",
      "0  AAPL  4....\n",
      "291 2021-08-26      tic        weight  predicted_y\n",
      "0  AAPL  0....\n",
      "292 2021-08-27      tic        weight  predicted_y\n",
      "0  AAPL  8....\n",
      "293 2021-08-30      tic        weight  predicted_y\n",
      "0  AAPL  2....\n",
      "294 2021-08-31      tic        weight  predicted_y\n",
      "0  AAPL  5....\n",
      "\n",
      "[295 rows x 2 columns]\n"
     ]
    }
   ],
   "source": [
    "print(\"Meta Coefficient: \\n\", meta_coefficient)"
   ]
  },
  {
   "cell_type": "code",
   "execution_count": 17,
   "metadata": {},
   "outputs": [
    {
     "name": "stdout",
     "output_type": "stream",
     "text": [
      "Model saved succesfully.\n"
     ]
    }
   ],
   "source": [
    "#Save model\n",
    "lr.save_model(trained_lr,\"lr_model\")"
   ]
  },
  {
   "cell_type": "code",
   "execution_count": 18,
   "metadata": {},
   "outputs": [
    {
     "name": "stdout",
     "output_type": "stream",
     "text": [
      "Model loaded succesfully.\n"
     ]
    }
   ],
   "source": [
    "#Load model\n",
    "my_model = lr.load_model(\"lr_model\")"
   ]
  },
  {
   "cell_type": "code",
   "execution_count": null,
   "metadata": {},
   "outputs": [],
   "source": []
  }
 ],
 "metadata": {
  "kernelspec": {
   "display_name": "Python 3",
   "language": "python",
   "name": "python3"
  },
  "language_info": {
   "codemirror_mode": {
    "name": "ipython",
    "version": 3
   },
   "file_extension": ".py",
   "mimetype": "text/x-python",
   "name": "python",
   "nbconvert_exporter": "python",
   "pygments_lexer": "ipython3",
   "version": "3.8.3"
  }
 },
 "nbformat": 4,
 "nbformat_minor": 4
}
